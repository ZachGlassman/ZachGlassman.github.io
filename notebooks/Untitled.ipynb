{
 "cells": [
  {
   "cell_type": "code",
   "execution_count": 7,
   "metadata": {
    "collapsed": false
   },
   "outputs": [],
   "source": [
    "from sympy import *\n",
    "init_printing(use_latex='mathjax')\n",
    "from IPython.display import display"
   ]
  },
  {
   "cell_type": "code",
   "execution_count": 33,
   "metadata": {
    "collapsed": false
   },
   "outputs": [],
   "source": [
    "delta = Symbol(\"Delta\")\n",
    "x = Symbol(\"x\")\n",
    "y = Symbol(\"y\")\n",
    "V = Symbol(\"V\")\n",
    "H0 = Matrix([[-delta/2,0],[0,delta/2]])\n",
    "V = Matrix([[0,V],[V,0]])\n",
    "H = H0 + V"
   ]
  },
  {
   "cell_type": "code",
   "execution_count": 26,
   "metadata": {
    "collapsed": false
   },
   "outputs": [
    {
     "data": {
      "text/latex": [
       "$$\\left[\\begin{matrix}- \\frac{\\Delta}{2} & V\\\\V & \\frac{\\Delta}{2}\\end{matrix}\\right]$$"
      ],
      "text/plain": [
       "⎡-Δ    ⎤\n",
       "⎢───  V⎥\n",
       "⎢ 2    ⎥\n",
       "⎢      ⎥\n",
       "⎢     Δ⎥\n",
       "⎢ V   ─⎥\n",
       "⎣     2⎦"
      ]
     },
     "metadata": {},
     "output_type": "display_data"
    }
   ],
   "source": [
    "display(H)"
   ]
  },
  {
   "cell_type": "code",
   "execution_count": 27,
   "metadata": {
    "collapsed": false
   },
   "outputs": [],
   "source": [
    "evecs = H.eigenvects()\n",
    "eigvals = [evecs[0][0],evecs[1][0]]\n",
    "eigvecs = [evecs[0][2],evecs[1][2]]"
   ]
  },
  {
   "cell_type": "code",
   "execution_count": 28,
   "metadata": {
    "collapsed": false
   },
   "outputs": [
    {
     "data": {
      "text/latex": [
       "$$\\left [ - \\frac{1}{2} \\sqrt{\\Delta^{2} + 4 V^{2}}, \\quad \\frac{1}{2} \\sqrt{\\Delta^{2} + 4 V^{2}}\\right ]$$"
      ],
      "text/plain": [
       "⎡    ___________      ___________⎤\n",
       "⎢   ╱  2      2      ╱  2      2 ⎥\n",
       "⎢-╲╱  Δ  + 4⋅V     ╲╱  Δ  + 4⋅V  ⎥\n",
       "⎢────────────────, ──────────────⎥\n",
       "⎣       2                2       ⎦"
      ]
     },
     "execution_count": 28,
     "metadata": {},
     "output_type": "execute_result"
    }
   ],
   "source": [
    "eigvals"
   ]
  },
  {
   "cell_type": "code",
   "execution_count": 29,
   "metadata": {
    "collapsed": false
   },
   "outputs": [
    {
     "data": {
      "text/latex": [
       "$$\\left [ \\left [ \\left[\\begin{matrix}- \\frac{V}{- \\frac{\\Delta}{2} + \\frac{1}{2} \\sqrt{\\Delta^{2} + 4 V^{2}}}\\\\1\\end{matrix}\\right]\\right ], \\quad \\left [ \\left[\\begin{matrix}- \\frac{V}{- \\frac{\\Delta}{2} - \\frac{1}{2} \\sqrt{\\Delta^{2} + 4 V^{2}}}\\\\1\\end{matrix}\\right]\\right ]\\right ]$$"
      ],
      "text/plain": [
       "⎡⎡⎡        -V          ⎤⎤  ⎡⎡        -V          ⎤⎤⎤\n",
       "⎢⎢⎢────────────────────⎥⎥, ⎢⎢────────────────────⎥⎥⎥\n",
       "⎢⎢⎢         ___________⎥⎥  ⎢⎢         ___________⎥⎥⎥\n",
       "⎢⎢⎢        ╱  2      2 ⎥⎥  ⎢⎢        ╱  2      2 ⎥⎥⎥\n",
       "⎢⎢⎢  Δ   ╲╱  Δ  + 4⋅V  ⎥⎥  ⎢⎢  Δ   ╲╱  Δ  + 4⋅V  ⎥⎥⎥\n",
       "⎢⎢⎢- ─ + ──────────────⎥⎥  ⎢⎢- ─ - ──────────────⎥⎥⎥\n",
       "⎢⎢⎢  2         2       ⎥⎥  ⎢⎢  2         2       ⎥⎥⎥\n",
       "⎢⎢⎢                    ⎥⎥  ⎢⎢                    ⎥⎥⎥\n",
       "⎣⎣⎣         1          ⎦⎦  ⎣⎣         1          ⎦⎦⎦"
      ]
     },
     "execution_count": 29,
     "metadata": {},
     "output_type": "execute_result"
    }
   ],
   "source": [
    "eigvecs"
   ]
  },
  {
   "cell_type": "code",
   "execution_count": null,
   "metadata": {
    "collapsed": true
   },
   "outputs": [],
   "source": []
  }
 ],
 "metadata": {
  "kernelspec": {
   "display_name": "Python 3",
   "language": "python",
   "name": "python3"
  },
  "language_info": {
   "codemirror_mode": {
    "name": "ipython",
    "version": 3
   },
   "file_extension": ".py",
   "mimetype": "text/x-python",
   "name": "python",
   "nbconvert_exporter": "python",
   "pygments_lexer": "ipython3",
   "version": "3.4.3"
  }
 },
 "nbformat": 4,
 "nbformat_minor": 0
}
