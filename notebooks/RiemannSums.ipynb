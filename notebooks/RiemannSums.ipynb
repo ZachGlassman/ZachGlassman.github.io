{
 "cells": [
  {
   "cell_type": "code",
   "execution_count": 84,
   "metadata": {
    "collapsed": true
   },
   "outputs": [],
   "source": [
    "#import necessary packages\n",
    "import numpy as np\n",
    "import matplotlib.pyplot as plt\n",
    "from scipy.integrate import quad\n",
    "%matplotlib inline"
   ]
  },
  {
   "cell_type": "code",
   "execution_count": 86,
   "metadata": {
    "collapsed": false
   },
   "outputs": [],
   "source": [
    "def Riemann_left(func,a,b,n):\n",
    "    \"\"\"Calculate the Riemann left sum for function func in region (a,b) with partition number n, an integer\"\"\"\n",
    "    dx = (b-a)/n\n",
    "    x = np.linspace(a,b-dx,n) # make a vector of points to evaluate sum on\n",
    "    y = func(x) #evaluate x on each of these points\n",
    "    return np.sum(y * dx) #sum the list of the points evaluated\n",
    "\n",
    "def Riemann_right(func,a,b,n):\n",
    "    \"\"\"Calculate the Riemann right sum for function func in region (a,b) with partition number n, an integer\"\"\"\n",
    "    dx = (b-a)/n\n",
    "    x = np.linspace(a+dx,b,n)\n",
    "    y = func(x)\n",
    "    return np.sum(y * dx)\n",
    "\n",
    "#now for an actual numerical integration routine\n",
    "def num_integrate(func,a,b):\n",
    "    result = quad(lambda x: func(x), a, b)\n",
    "    return result[0]"
   ]
  },
  {
   "cell_type": "code",
   "execution_count": 100,
   "metadata": {
    "collapsed": false
   },
   "outputs": [],
   "source": [
    "def plot_sums(func,n,a,b,ax):\n",
    "    \"\"\"function plot sums for a function, given a function, an axis,a,b, and list of n\"\"\"\n",
    "    #calculate the Riemann sums for each element of n\n",
    "    sums_left = [Riemann_left(func,a,b,i) for i in n]\n",
    "    sums_right = [Riemann_right(func,a,b,i) for i in n]\n",
    "    num_ans = num_integrate(func,a,b)\n",
    "    sums_ac = [num_ans for i in n]\n",
    "    #generate function plot\n",
    "    x = np.linspace(a,b,100)\n",
    "    ax[0].plot(x,func(x))\n",
    "    ax[1].plot(n,sums_left,label= 'Left')\n",
    "    ax[1].plot(n,sums_right, label = 'Right')\n",
    "    ax[1].plot(n,sums_ac, label = 'Numerical')\n",
    "    ax[1].legend()"
   ]
  },
  {
   "cell_type": "code",
   "execution_count": 101,
   "metadata": {
    "collapsed": false
   },
   "outputs": [
    {
     "data": {
      "image/png": "[encoded data removed]",
      "text/plain": [
       "<matplotlib.figure.Figure at 0x7efc5eea0860>"
      ]
     },
     "metadata": {},
     "output_type": "display_data"
    }
   ],
   "source": [
    "#define our function\n",
    "def func(x):\n",
    "    return np.cos(x) - x/8\n",
    "\n",
    "#define a and b\n",
    "a = -10\n",
    "b = 10\n",
    "n = [i for i in range(1,30)]\n",
    "#define axis for plotting\n",
    "fig, ax = plt.subplots(2,1)\n",
    "plot_sums(func,n,a,b,ax)\n",
    "ax[0].set_xlabel('x')\n",
    "ax[1].set_xlabel('n')\n",
    "ax[0].set_ylabel('f(x)')\n",
    "ax[1].set_ylabel('Approximate Integral')\n",
    "plt.tight_layout()"
   ]
  }
 ],
 "metadata": {
  "kernelspec": {
   "display_name": "Python 3",
   "language": "python",
   "name": "python3"
  },
  "language_info": {
   "codemirror_mode": {
    "name": "ipython",
    "version": 3
   },
   "file_extension": ".py",
   "mimetype": "text/x-python",
   "name": "python",
   "nbconvert_exporter": "python",
   "pygments_lexer": "ipython3",
   "version": "3.4.3"
  }
 },
 "nbformat": 4,
 "nbformat_minor": 0
}
